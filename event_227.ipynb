{
  "nbformat": 4,
  "nbformat_minor": 0,
  "metadata": {
    "colab": {
      "name": "event_227.ipynb",
      "provenance": [],
      "collapsed_sections": [],
      "machine_shape": "hm",
      "include_colab_link": true
    },
    "kernelspec": {
      "name": "python3",
      "display_name": "Python 3"
    },
    "accelerator": "TPU"
  },
  "cells": [
    {
      "cell_type": "markdown",
      "metadata": {
        "id": "view-in-github",
        "colab_type": "text"
      },
      "source": [
        "<a href=\"https://colab.research.google.com/github/Najme61/3D-CNN-Keras/blob/master/event_227.ipynb\" target=\"_parent\"><img src=\"https://colab.research.google.com/assets/colab-badge.svg\" alt=\"Open In Colab\"/></a>"
      ]
    },
    {
      "cell_type": "code",
      "metadata": {
        "id": "rrBpUGo5W-F1",
        "colab_type": "code",
        "colab": {
          "base_uri": "https://localhost:8080/",
          "height": 153
        },
        "outputId": "c9d38328-87b0-444f-ed5e-306a8c7e93c2"
      },
      "source": [
        "from google.colab import drive\n",
        "drive.mount('Mydrive')\n",
        "!ls 'Mydrive/My Drive/UCSD/UCSDped1'"
      ],
      "execution_count": 1,
      "outputs": [
        {
          "output_type": "stream",
          "text": [
            "Go to this URL in a browser: https://accounts.google.com/o/oauth2/auth?client_id=947318989803-6bn6qk8qdgf4n4g3pfee6491hc0brc4i.apps.googleusercontent.com&redirect_uri=urn%3Aietf%3Awg%3Aoauth%3A2.0%3Aoob&scope=email%20https%3A%2F%2Fwww.googleapis.com%2Fauth%2Fdocs.test%20https%3A%2F%2Fwww.googleapis.com%2Fauth%2Fdrive%20https%3A%2F%2Fwww.googleapis.com%2Fauth%2Fdrive.photos.readonly%20https%3A%2F%2Fwww.googleapis.com%2Fauth%2Fpeopleapi.readonly&response_type=code\n",
            "\n",
            "Enter your authorization code:\n",
            "··········\n",
            "Mounted at Mydrive\n",
            "Test  Train\n"
          ],
          "name": "stdout"
        }
      ]
    },
    {
      "cell_type": "code",
      "metadata": {
        "colab_type": "code",
        "id": "kc4wV1GT1vLr",
        "outputId": "c18ddb82-dcd1-42cd-8a59-c4d41e8d4395",
        "colab": {
          "base_uri": "https://localhost:8080/",
          "height": 36
        }
      },
      "source": [
        "# preprocessing train data _event detection with 227 size\n",
        "from keras.preprocessing.image import img_to_array,load_img\n",
        "import numpy as np\n",
        "import glob\n",
        "import os \n",
        "from keras.models import load_model  \n",
        "import argparse\n",
        "import matplotlib.pyplot as plt\n",
        "from skimage import data, color\n",
        "from skimage.transform import rescale, resize, downscale_local_mean\n",
        "\n",
        "image_store=[]\n",
        "\n",
        "ped1_path = \"Mydrive/My Drive/UCSD/UCSDped1/Train\"\n",
        "paths = os.listdir(ped1_path)\n",
        "\n",
        "for path in paths:\n",
        "    framepath = ped1_path + \"/\" + path\n",
        "    images = os.listdir(framepath)\n",
        "    for image in images:\n",
        "           \n",
        "            image_path = framepath + \"/\" + image\n",
        "            img = load_img(image_path)\n",
        "            img = img_to_array(img)\n",
        "            img = resize(img,(227,227,3))\n",
        "            g = 0.2989*img[:,:,0] + 0.5870*img[:,:,1] + 0.1140*img[:,:,2]\n",
        "            #print(g)   \n",
        "            image_store.append(g)\n",
        "image_store = np.array(image_store)\n",
        "#image_store.shape\n",
        "a, b, c = image_store.shape\n",
        "        \n",
        "image_store.resize(b,c,a)\n",
        "#Normalize\n",
        "image_store=(image_store-image_store.mean())/(image_store.std())\n",
        "#Clip negative Values\n",
        "image_store=np.clip(image_store,0,1)\n",
        "np.save('Mydrive/My Drive/event dect/train.npy',image_store)"
      ],
      "execution_count": 0,
      "outputs": [
        {
          "output_type": "stream",
          "text": [
            "Using TensorFlow backend.\n"
          ],
          "name": "stderr"
        }
      ]
    },
    {
      "cell_type": "code",
      "metadata": {
        "id": "ldZOf3OJ2aQk",
        "colab_type": "code",
        "outputId": "3a0b87dc-aeba-4728-e3e5-15e6f51c46f4",
        "colab": {
          "base_uri": "https://localhost:8080/",
          "height": 36
        }
      },
      "source": [
        "#preprocessing test data _event detection with 227 size\n",
        "from keras.preprocessing.image import img_to_array,load_img\n",
        "import numpy as np\n",
        "import glob\n",
        "import os \n",
        "from keras.models import load_model \n",
        "import argparse\n",
        "import matplotlib.pyplot as plt\n",
        "from skimage import data, color\n",
        "from skimage.transform import rescale, resize, downscale_local_mean\n",
        "\n",
        "image_store = []\n",
        "    \n",
        "    \n",
        "#List of all Videos in the Source Directory. \n",
        "#videos=os.listdir(video_source_path)\n",
        "\n",
        "\n",
        "#Make a temp dir to store all the frames\n",
        "#os.mkdir(video_source_path + '/frames')\n",
        "ped1_path = \"Mydrive/My Drive/UCSD/UCSDped1/Test\"\n",
        "paths = os.listdir(ped1_path)\n",
        "\n",
        "for path in paths:\n",
        "    framepath = ped1_path + \"/\" + path\n",
        "    \n",
        "    \"\"\"for video in videos:\n",
        "        os.system( 'ffmpeg -i {}/{} -r 1/{} {}/frames/%03d.jpg'.format(video_source_path,video,fps,video_source_path))\"\"\"\n",
        "    images = os.listdir(framepath)\n",
        "    for image in images:\n",
        "            #image_path = framepath + \"/\" + image\n",
        "            image_path = framepath + \"/\" + image\n",
        "            img = load_img(image_path)\n",
        "            img = img_to_array(img)\n",
        "                \n",
        "                \n",
        "            #Resize the Image to (224,224,3) for the network to be able to process it. \n",
        "            img = resize(img,(227,227,3))\n",
        "                \n",
        "            #Convert the Image to Grayscale\n",
        "                \n",
        "                \n",
        "            g = 0.2989*img[:,:,0] + 0.5870*img[:,:,1] + 0.1140*img[:,:,2]\n",
        "                \n",
        "            image_store.append(g)\n",
        "            #store(image_path)\n",
        "\n",
        "\n",
        "image_store = np.array(image_store)\n",
        "image_store.shape\n",
        "a, b, c = image_store.shape\n",
        "        #Reshape to (227,227,batch_size)\n",
        "image_store.resize(b,c,a)\n",
        "#Normalize\n",
        "image_store=(image_store-image_store.mean())/(image_store.std())\n",
        "#Clip negative Values\n",
        "image_store=np.clip(image_store,0,1)\n",
        "np.save('Mydrive/My Drive/event dect/test.npy',image_store)\n",
        "#Remove Buffer Directory\n",
        "#os.system('rm -r {}'.format(framepath))\n"
      ],
      "execution_count": 0,
      "outputs": [
        {
          "output_type": "stream",
          "text": [
            "Using TensorFlow backend.\n"
          ],
          "name": "stderr"
        }
      ]
    },
    {
      "cell_type": "code",
      "metadata": {
        "id": "GIKO0naOkCBC",
        "colab_type": "code",
        "outputId": "9c508b54-7cb8-4cec-8e8f-6d9985007003",
        "colab": {
          "base_uri": "https://localhost:8080/",
          "height": 1000
        }
      },
      "source": [
        "from keras.callbacks import ModelCheckpoint, EarlyStopping\n",
        "from keras.models import load_model\n",
        "import numpy as np \n",
        "\n",
        "from keras.layers import Conv3D,ConvLSTM2D,Conv3DTranspose\n",
        "from keras.models import Sequential\n",
        "#import argparse\n",
        "\n",
        "''''parser=argparse.ArgumentParser()\n",
        "parser.add_argument('n_epochs',type=int)\n",
        "\n",
        "args=parser.parse_args()\n",
        "'''\n",
        "X_train=np.load('Mydrive/My Drive/event dect/train.npy')\n",
        "frames=X_train.shape[2]\n",
        "#Need to make number of frames divisible by 10\n",
        "print(X_train.shape)\n",
        "print(frames)\n",
        "\n",
        "frames=frames-frames%10\n",
        "print('frames',frames)\n",
        "X_train=X_train[:,:,:frames]\n",
        "X_train=X_train.reshape(-1,227,227,10)\n",
        "X_train=np.expand_dims(X_train,axis=4)\n",
        "print('X_train',X_train.shape)\n",
        "Y_train=X_train.copy()\n",
        "print('Y_train',Y_train.shape)\n",
        "\n",
        "#epochs=5\n",
        "#batch_size=10\n",
        "#'''\n",
        "model=Sequential()\n",
        "#spatial encoder\n",
        "model.add(Conv3D(filters=128,kernel_size=(11,11,1),strides=(4,4,1),padding='valid',input_shape=(227,227,10,1),activation='tanh'))\n",
        "\n",
        "model.add(Conv3D(filters=64,kernel_size=(5,5,1),strides=(2,2,1),padding='valid',activation='tanh'))\n",
        "#temporal encoder\n",
        "model.add(ConvLSTM2D(filters=64,kernel_size=(3,3),strides=1,padding='same',dropout=0.4,recurrent_dropout=0.3,return_sequences=True))\n",
        "model.add(ConvLSTM2D(filters=32,kernel_size=(3,3),strides=1,padding='same',dropout=0.3,return_sequences=True))\n",
        "#temporal decoder\n",
        "model.add(ConvLSTM2D(filters=64,kernel_size=(3,3),strides=1,return_sequences=True, padding='same',dropout=0.5))\n",
        "\n",
        "#spatial decoder: Transposed convolution layer (sometimes called Deconvolution)\n",
        "model.add(Conv3DTranspose(filters=128,kernel_size=(5,5,1),strides=(2,2,1),padding='valid',activation='tanh'))\n",
        "model.add(Conv3DTranspose(filters=1,kernel_size=(11,11,1),strides=(4,4,1),padding='valid',activation='tanh'))\n",
        "\n",
        "model.compile(optimizer='adam',loss='mean_squared_error',metrics=['accuracy'])\n",
        "model.summary()\n",
        "\n",
        "history= model.fit(X_train, Y_train, batch_size=1, epochs=30)\n",
        "model.save(\"Mydrive/My Drive/event dect/AnomalyDetector.h5\")\n",
        "\n",
        "'''\n",
        "#if __name__==\"__main__\":\n",
        "\n",
        "#\tmodel=load_model()\n",
        "  \n",
        "callback_save = ModelCheckpoint(\"AnomalyDetector.h5\",monitor=\"mean_squared_error\", save_best_only=True)\n",
        "\n",
        "callback_early_stopping = EarlyStopping(monitor='val_loss', patience=3)\n",
        "\n",
        "print('Model has been loaded')\n",
        "  \n",
        "model.fit(X_train,Y_train,\n",
        "\t\t\t              batch_size=batch_size,\n",
        "\t\t\t              epochs=epochs,\n",
        "\t\t\t              callbacks = [callback_save,callback_early_stopping]\n",
        "\t\t\t              )'''\n",
        "  "
      ],
      "execution_count": 2,
      "outputs": [
        {
          "output_type": "stream",
          "text": [
            "Using TensorFlow backend.\n"
          ],
          "name": "stderr"
        },
        {
          "output_type": "stream",
          "text": [
            "(227, 227, 6812)\n",
            "6812\n",
            "frames 6810\n",
            "X_train (681, 227, 227, 10, 1)\n",
            "Y_train (681, 227, 227, 10, 1)\n",
            "WARNING:tensorflow:From /usr/local/lib/python3.6/dist-packages/keras/backend/tensorflow_backend.py:66: The name tf.get_default_graph is deprecated. Please use tf.compat.v1.get_default_graph instead.\n",
            "\n",
            "WARNING:tensorflow:From /usr/local/lib/python3.6/dist-packages/keras/backend/tensorflow_backend.py:541: The name tf.placeholder is deprecated. Please use tf.compat.v1.placeholder instead.\n",
            "\n",
            "WARNING:tensorflow:From /usr/local/lib/python3.6/dist-packages/keras/backend/tensorflow_backend.py:4432: The name tf.random_uniform is deprecated. Please use tf.random.uniform instead.\n",
            "\n",
            "WARNING:tensorflow:From /usr/local/lib/python3.6/dist-packages/keras/backend/tensorflow_backend.py:148: The name tf.placeholder_with_default is deprecated. Please use tf.compat.v1.placeholder_with_default instead.\n",
            "\n",
            "WARNING:tensorflow:From /usr/local/lib/python3.6/dist-packages/keras/backend/tensorflow_backend.py:3733: calling dropout (from tensorflow.python.ops.nn_ops) with keep_prob is deprecated and will be removed in a future version.\n",
            "Instructions for updating:\n",
            "Please use `rate` instead of `keep_prob`. Rate should be set to `rate = 1 - keep_prob`.\n",
            "WARNING:tensorflow:From /usr/local/lib/python3.6/dist-packages/keras/optimizers.py:793: The name tf.train.Optimizer is deprecated. Please use tf.compat.v1.train.Optimizer instead.\n",
            "\n",
            "Model: \"sequential_1\"\n",
            "_________________________________________________________________\n",
            "Layer (type)                 Output Shape              Param #   \n",
            "=================================================================\n",
            "conv3d_1 (Conv3D)            (None, 55, 55, 10, 128)   15616     \n",
            "_________________________________________________________________\n",
            "conv3d_2 (Conv3D)            (None, 26, 26, 10, 64)    204864    \n",
            "_________________________________________________________________\n",
            "conv_lst_m2d_1 (ConvLSTM2D)  (None, 26, 26, 10, 64)    295168    \n",
            "_________________________________________________________________\n",
            "conv_lst_m2d_2 (ConvLSTM2D)  (None, 26, 26, 10, 32)    110720    \n",
            "_________________________________________________________________\n",
            "conv_lst_m2d_3 (ConvLSTM2D)  (None, 26, 26, 10, 64)    221440    \n",
            "_________________________________________________________________\n",
            "conv3d_transpose_1 (Conv3DTr (None, 55, 55, 10, 128)   204928    \n",
            "_________________________________________________________________\n",
            "conv3d_transpose_2 (Conv3DTr (None, 227, 227, 10, 1)   15489     \n",
            "=================================================================\n",
            "Total params: 1,068,225\n",
            "Trainable params: 1,068,225\n",
            "Non-trainable params: 0\n",
            "_________________________________________________________________\n",
            "WARNING:tensorflow:From /usr/local/lib/python3.6/dist-packages/tensorflow_core/python/ops/math_grad.py:1424: where (from tensorflow.python.ops.array_ops) is deprecated and will be removed in a future version.\n",
            "Instructions for updating:\n",
            "Use tf.where in 2.0, which has the same broadcast rule as np.where\n",
            "WARNING:tensorflow:From /usr/local/lib/python3.6/dist-packages/keras/backend/tensorflow_backend.py:1033: The name tf.assign_add is deprecated. Please use tf.compat.v1.assign_add instead.\n",
            "\n",
            "WARNING:tensorflow:From /usr/local/lib/python3.6/dist-packages/keras/backend/tensorflow_backend.py:1020: The name tf.assign is deprecated. Please use tf.compat.v1.assign instead.\n",
            "\n",
            "WARNING:tensorflow:From /usr/local/lib/python3.6/dist-packages/keras/backend/tensorflow_backend.py:3005: The name tf.Session is deprecated. Please use tf.compat.v1.Session instead.\n",
            "\n",
            "Epoch 1/30\n",
            "WARNING:tensorflow:From /usr/local/lib/python3.6/dist-packages/keras/backend/tensorflow_backend.py:190: The name tf.get_default_session is deprecated. Please use tf.compat.v1.get_default_session instead.\n",
            "\n",
            "WARNING:tensorflow:From /usr/local/lib/python3.6/dist-packages/keras/backend/tensorflow_backend.py:197: The name tf.ConfigProto is deprecated. Please use tf.compat.v1.ConfigProto instead.\n",
            "\n",
            "WARNING:tensorflow:From /usr/local/lib/python3.6/dist-packages/keras/backend/tensorflow_backend.py:207: The name tf.global_variables is deprecated. Please use tf.compat.v1.global_variables instead.\n",
            "\n",
            "WARNING:tensorflow:From /usr/local/lib/python3.6/dist-packages/keras/backend/tensorflow_backend.py:216: The name tf.is_variable_initialized is deprecated. Please use tf.compat.v1.is_variable_initialized instead.\n",
            "\n",
            "WARNING:tensorflow:From /usr/local/lib/python3.6/dist-packages/keras/backend/tensorflow_backend.py:223: The name tf.variables_initializer is deprecated. Please use tf.compat.v1.variables_initializer instead.\n",
            "\n",
            "681/681 [==============================] - 545s 800ms/step - loss: 0.1047 - acc: 0.7364\n",
            "Epoch 2/30\n",
            "681/681 [==============================] - 491s 721ms/step - loss: 0.0475 - acc: 0.8128\n",
            "Epoch 3/30\n",
            "681/681 [==============================] - 491s 720ms/step - loss: 0.0417 - acc: 0.8185\n",
            "Epoch 4/30\n",
            "681/681 [==============================] - 510s 749ms/step - loss: 0.0390 - acc: 0.8208\n",
            "Epoch 5/30\n",
            "681/681 [==============================] - 516s 758ms/step - loss: 0.0374 - acc: 0.8221\n",
            "Epoch 6/30\n",
            "681/681 [==============================] - 512s 752ms/step - loss: 0.0362 - acc: 0.8232\n",
            "Epoch 7/30\n",
            "681/681 [==============================] - 520s 763ms/step - loss: 0.0354 - acc: 0.8238\n",
            "Epoch 8/30\n",
            "681/681 [==============================] - 519s 762ms/step - loss: 0.0347 - acc: 0.8244\n",
            "Epoch 9/30\n",
            "681/681 [==============================] - 508s 747ms/step - loss: 0.0341 - acc: 0.8248\n",
            "Epoch 10/30\n",
            "681/681 [==============================] - 512s 751ms/step - loss: 0.0337 - acc: 0.8252\n",
            "Epoch 11/30\n",
            "681/681 [==============================] - 510s 749ms/step - loss: 0.0333 - acc: 0.8254\n",
            "Epoch 12/30\n",
            "681/681 [==============================] - 519s 762ms/step - loss: 0.0330 - acc: 0.8256\n",
            "Epoch 13/30\n",
            "681/681 [==============================] - 508s 747ms/step - loss: 0.0327 - acc: 0.8259\n",
            "Epoch 14/30\n",
            "681/681 [==============================] - 512s 752ms/step - loss: 0.0324 - acc: 0.8260\n",
            "Epoch 15/30\n",
            "681/681 [==============================] - 524s 770ms/step - loss: 0.0321 - acc: 0.8262\n",
            "Epoch 16/30\n",
            "681/681 [==============================] - 522s 766ms/step - loss: 0.0320 - acc: 0.8264\n",
            "Epoch 17/30\n",
            "681/681 [==============================] - 518s 761ms/step - loss: 0.0317 - acc: 0.8265\n",
            "Epoch 18/30\n",
            "681/681 [==============================] - 513s 754ms/step - loss: 0.0316 - acc: 0.8266\n",
            "Epoch 19/30\n",
            "681/681 [==============================] - 523s 767ms/step - loss: 0.0314 - acc: 0.8267\n",
            "Epoch 20/30\n",
            "681/681 [==============================] - 529s 777ms/step - loss: 0.0312 - acc: 0.8269\n",
            "Epoch 21/30\n",
            "681/681 [==============================] - 534s 783ms/step - loss: 0.0311 - acc: 0.8269\n",
            "Epoch 22/30\n",
            "681/681 [==============================] - 532s 781ms/step - loss: 0.0310 - acc: 0.8270\n",
            "Epoch 23/30\n",
            "681/681 [==============================] - 529s 776ms/step - loss: 0.0308 - acc: 0.8271\n",
            "Epoch 24/30\n",
            "681/681 [==============================] - 546s 802ms/step - loss: 0.0308 - acc: 0.8271\n",
            "Epoch 25/30\n",
            "681/681 [==============================] - 541s 794ms/step - loss: 0.0306 - acc: 0.8272\n",
            "Epoch 26/30\n",
            "681/681 [==============================] - 540s 793ms/step - loss: 0.0305 - acc: 0.8273\n",
            "Epoch 27/30\n",
            "681/681 [==============================] - 536s 787ms/step - loss: 0.0304 - acc: 0.8274\n",
            "Epoch 28/30\n",
            "681/681 [==============================] - 542s 796ms/step - loss: 0.0304 - acc: 0.8274\n",
            "Epoch 29/30\n",
            "681/681 [==============================] - 542s 796ms/step - loss: 0.0302 - acc: 0.8274\n",
            "Epoch 30/30\n",
            "681/681 [==============================] - 545s 800ms/step - loss: 0.0302 - acc: 0.8275\n"
          ],
          "name": "stdout"
        },
        {
          "output_type": "execute_result",
          "data": {
            "text/plain": [
              "'\\n#if __name__==\"__main__\":\\n\\n#\\tmodel=load_model()\\n  \\ncallback_save = ModelCheckpoint(\"AnomalyDetector.h5\",monitor=\"mean_squared_error\", save_best_only=True)\\n\\ncallback_early_stopping = EarlyStopping(monitor=\\'val_loss\\', patience=3)\\n\\nprint(\\'Model has been loaded\\')\\n  \\nmodel.fit(X_train,Y_train,\\n\\t\\t\\t              batch_size=batch_size,\\n\\t\\t\\t              epochs=epochs,\\n\\t\\t\\t              callbacks = [callback_save,callback_early_stopping]\\n\\t\\t\\t              )'"
            ]
          },
          "metadata": {
            "tags": []
          },
          "execution_count": 2
        }
      ]
    },
    {
      "cell_type": "code",
      "metadata": {
        "id": "jcXOuo4UGs82",
        "colab_type": "code",
        "colab": {
          "base_uri": "https://localhost:8080/",
          "height": 545
        },
        "outputId": "5547d7b8-ddf0-406b-f6d5-3443b165a84f"
      },
      "source": [
        "import matplotlib.pyplot as plt\n",
        "\n",
        "acc = history.history['acc']\n",
        "#val_acc = history.history['val_acc']\n",
        "loss = history.history['loss']\n",
        "#val_loss = history.history['val_loss']\n",
        "epochs = range(1, len(acc) + 1)\n",
        "plt.plot(epochs, acc, 'bo', label='Training acc')\n",
        "#plt.plot(epochs, val_acc, 'b', label='Validation acc')\n",
        "plt.title('Training and validation accuracy')\n",
        "plt.legend()\n",
        "plt.figure()\n",
        "plt.plot(epochs, loss, 'bo', label='Training loss')\n",
        "#plt.plot(epochs, val_loss, 'b', label='Validation loss')\n",
        "plt.title('Training and validation loss')\n",
        "plt.legend()\n",
        "plt.show()"
      ],
      "execution_count": 3,
      "outputs": [
        {
          "output_type": "display_data",
          "data": {
            "image/png": "[encoded data removed]",
            "text/plain": [
              "<Figure size 432x288 with 1 Axes>"
            ]
          },
          "metadata": {
            "tags": []
          }
        },
        {
          "output_type": "display_data",
          "data": {
            "image/png": "[encoded data removed]",
            "text/plain": [
              "<Figure size 432x288 with 1 Axes>"
            ]
          },
          "metadata": {
            "tags": []
          }
        }
      ]
    },
    {
      "cell_type": "code",
      "metadata": {
        "id": "065RQS5eklnH",
        "colab_type": "code",
        "colab": {
          "base_uri": "https://localhost:8080/",
          "height": 36
        },
        "outputId": "f3c6d61d-a060-4d5e-f678-8746a9bc7afc"
      },
      "source": [
        "from keras.models import load_model\n",
        "import numpy as np \n",
        "\n",
        "def mean_squared_loss(x1,x2):\n",
        "\n",
        "\t''' Compute Euclidean Distance Loss  between \n",
        "\tinput frame and the reconstructed frame'''\n",
        "\n",
        "\tdiff=x1-x2\n",
        "\ta,b,c,d,e=diff.shape\n",
        "\tn_samples=a*b*c*d*e\n",
        "\tsq_diff=diff**2\n",
        "\tSum=sq_diff.sum()\n",
        "\tdist=np.sqrt(Sum)\n",
        "\tmean_dist=dist/n_samples\n",
        "\n",
        "\treturn mean_dist\n",
        "\n",
        "'''Define threshold for Sensitivity\n",
        "Lower the Threshhold,higher the chances that a bunch of frames will be flagged as Anomalous.\n",
        "'''\n",
        "\n",
        "threshold=0.01\n",
        "\n",
        "model=load_model('Mydrive/My Drive/event dect/AnomalyDetector.h5')\n",
        "\n",
        "X_test=np.load('Mydrive/My Drive/event dect/test.npy')\n",
        "frames=X_test.shape[2]\n",
        "#Need to make number of frames divisible by 10\n",
        "\n",
        "flag=0 #Overall video flagq\n",
        "\n",
        "frames=frames-frames%10\n",
        "\n",
        "X_test=X_test[:,:,:frames]\n",
        "X_test=X_test.reshape(-1,227,227,10)\n",
        "X_test=np.expand_dims(X_test,axis=4)\n",
        "c1=1\n",
        "for number,bunch in enumerate(X_test):\n",
        "\tn_bunch=np.expand_dims(bunch,axis=0)\n",
        "\treconstructed_bunch=model.predict(n_bunch)\n",
        "\n",
        "\n",
        "\tloss=mean_squared_loss(n_bunch,reconstructed_bunch)\n",
        "\n",
        "\tif loss>threshold:\n",
        "\t\tprint(\"Anomalous bunch of frames at bunch number {}\".format(number))\n",
        "\t\tflag=1\n",
        "\n",
        "\n",
        "\telse:\n",
        "\t\t#print('Bunch Normal')\n",
        "\t\tc1=c1+1\n",
        "\n",
        "\n",
        "if flag==1:\n",
        "\tprint(\"Anomalous Events detected\")\n",
        "print('Normal',c1) "
      ],
      "execution_count": 5,
      "outputs": [
        {
          "output_type": "stream",
          "text": [
            "724\n"
          ],
          "name": "stdout"
        }
      ]
    },
    {
      "cell_type": "code",
      "metadata": {
        "id": "d6atwPvT7usw",
        "colab_type": "code",
        "outputId": "d130f8a5-7b32-46c8-b15d-97004048c12e",
        "colab": {
          "base_uri": "https://localhost:8080/",
          "height": 75
        }
      },
      "source": [
        "import matplotlib.pyplot as plt\n",
        "print(n_bunch.shape,reconstructed_bunch.shape)\n",
        "print(loss)\n",
        "print(X_test.shape)"
      ],
      "execution_count": 11,
      "outputs": [
        {
          "output_type": "stream",
          "text": [
            "(1, 227, 227, 10, 1) (1, 227, 227, 10, 1)\n",
            "0.00036235013179439473\n",
            "(723, 227, 227, 10, 1)\n"
          ],
          "name": "stdout"
        }
      ]
    }
  ]
}